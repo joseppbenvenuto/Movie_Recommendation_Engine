{
 "cells": [
  {
   "cell_type": "markdown",
   "metadata": {},
   "source": [
    "## Data Preprocessing\n",
    "\n",
    "### Project Description:\n",
    "\n",
    "Using pyspark, due to the large size of the data sets, the following code seeks to join 3 movielens data sets consisting of movies, reviews, ratings, and trailer data.\n",
    "\n",
    "January 09, 1995 and March 31, 2015.<br>\n",
    "The data can be found at https://grouplens.org/datasets/movielens/ ."
   ]
  },
  {
   "cell_type": "code",
   "execution_count": 1,
   "metadata": {},
   "outputs": [],
   "source": [
    "# Import packages\n",
    "import findspark\n",
    "findspark.init(\"/Users/joseppbenvenuto/spark-3.0.1-bin-hadoop2.7\")\n",
    "import pyspark\n",
    "from pyspark.sql import SparkSession\n",
    "spark = SparkSession.builder.appName(\"spark\").getOrCreate()\n",
    "import pandas as pd\n",
    "import numpy as np"
   ]
  },
  {
   "cell_type": "code",
   "execution_count": 2,
   "metadata": {},
   "outputs": [
    {
     "name": "stdout",
     "output_type": "stream",
     "text": [
      "root\n",
      " |-- userId: string (nullable = true)\n",
      " |-- movieId: string (nullable = true)\n",
      " |-- rating: string (nullable = true)\n",
      " |-- timestamp: string (nullable = true)\n",
      "\n"
     ]
    }
   ],
   "source": [
    "# View schema of data set\n",
    "reviews = spark.read.csv('Data/ratings.csv', header = True)\n",
    "reviews_schema = reviews.printSchema()\n",
    "reviews_schema"
   ]
  },
  {
   "cell_type": "markdown",
   "metadata": {},
   "source": [
    "The above schema describes the data types of each feature found in the data set."
   ]
  },
  {
   "cell_type": "code",
   "execution_count": 3,
   "metadata": {},
   "outputs": [
    {
     "name": "stdout",
     "output_type": "stream",
     "text": [
      "+------+-------+------+----------+\n",
      "|userId|movieId|rating| timestamp|\n",
      "+------+-------+------+----------+\n",
      "|     1|      2|   3.5|1112486027|\n",
      "|     1|     29|   3.5|1112484676|\n",
      "|     1|     32|   3.5|1112484819|\n",
      "|     1|     47|   3.5|1112484727|\n",
      "|     1|     50|   3.5|1112484580|\n",
      "|     1|    112|   3.5|1094785740|\n",
      "|     1|    151|   4.0|1094785734|\n",
      "|     1|    223|   4.0|1112485573|\n",
      "|     1|    253|   4.0|1112484940|\n",
      "|     1|    260|   4.0|1112484826|\n",
      "+------+-------+------+----------+\n",
      "only showing top 10 rows\n",
      "\n",
      "\n",
      "record count: 20000263\n"
     ]
    }
   ],
   "source": [
    "# View data set\n",
    "reviews.createOrReplaceTempView('reviews')\n",
    "reviews_sql = spark.sql(\"\"\"SELECT *\n",
    "                           FROM reviews\"\"\")\n",
    "\n",
    "reviews_sql.show(10)\n",
    "print('\\n' + 'record count: ' + str(reviews_sql.count()))"
   ]
  },
  {
   "cell_type": "markdown",
   "metadata": {},
   "source": [
    "The above table represents all the movies under review, reviews, star ratings, and users."
   ]
  },
  {
   "cell_type": "code",
   "execution_count": 4,
   "metadata": {},
   "outputs": [
    {
     "name": "stdout",
     "output_type": "stream",
     "text": [
      "root\n",
      " |-- movieId: string (nullable = true)\n",
      " |-- title: string (nullable = true)\n",
      " |-- genres: string (nullable = true)\n",
      "\n"
     ]
    }
   ],
   "source": [
    "# View schema of data set \n",
    "movies = spark.read.csv('Data/movies.csv', header = True)\n",
    "movies_schema = movies.printSchema()\n",
    "movies_schema"
   ]
  },
  {
   "cell_type": "markdown",
   "metadata": {},
   "source": [
    "The above schema describes the data types of each feature found in the data set."
   ]
  },
  {
   "cell_type": "code",
   "execution_count": 5,
   "metadata": {},
   "outputs": [
    {
     "name": "stdout",
     "output_type": "stream",
     "text": [
      "+-------+--------------------+--------------------+\n",
      "|movieId|               title|              genres|\n",
      "+-------+--------------------+--------------------+\n",
      "|      1|    Toy Story (1995)|Adventure|Animati...|\n",
      "|      2|      Jumanji (1995)|Adventure|Childre...|\n",
      "|      3|Grumpier Old Men ...|      Comedy|Romance|\n",
      "|      4|Waiting to Exhale...|Comedy|Drama|Romance|\n",
      "|      5|Father of the Bri...|              Comedy|\n",
      "|      6|         Heat (1995)|Action|Crime|Thri...|\n",
      "|      7|      Sabrina (1995)|      Comedy|Romance|\n",
      "|      8| Tom and Huck (1995)|  Adventure|Children|\n",
      "|      9| Sudden Death (1995)|              Action|\n",
      "|     10|    GoldenEye (1995)|Action|Adventure|...|\n",
      "+-------+--------------------+--------------------+\n",
      "only showing top 10 rows\n",
      "\n",
      "\n",
      "record count: 27278\n"
     ]
    }
   ],
   "source": [
    "# View data set\n",
    "movies.createOrReplaceTempView('movies')\n",
    "movies_sql = spark.sql(\"\"\"SELECT *\n",
    "                          FROM movies\"\"\")\n",
    "\n",
    "movies_sql.show(10)\n",
    "print('\\n' + 'record count: ' + str(movies_sql.count()))"
   ]
  },
  {
   "cell_type": "markdown",
   "metadata": {},
   "source": [
    "The above table represents all the businesses and business names under review."
   ]
  },
  {
   "cell_type": "code",
   "execution_count": 6,
   "metadata": {},
   "outputs": [
    {
     "name": "stdout",
     "output_type": "stream",
     "text": [
      "+-------+--------------------+------+------+----------+\n",
      "|movieID|               title|userID|rating| timestamp|\n",
      "+-------+--------------------+------+------+----------+\n",
      "|      2|      Jumanji (1995)|     1|   3.5|1112486027|\n",
      "|     29|City of Lost Chil...|     1|   3.5|1112484676|\n",
      "|     32|Twelve Monkeys (a...|     1|   3.5|1112484819|\n",
      "|     47|Seven (a.k.a. Se7...|     1|   3.5|1112484727|\n",
      "|     50|Usual Suspects, T...|     1|   3.5|1112484580|\n",
      "|    112|Rumble in the Bro...|     1|   3.5|1094785740|\n",
      "|    151|      Rob Roy (1995)|     1|   4.0|1094785734|\n",
      "|    223|       Clerks (1994)|     1|   4.0|1112485573|\n",
      "|    253|Interview with th...|     1|   4.0|1112484940|\n",
      "|    260|Star Wars: Episod...|     1|   4.0|1112484826|\n",
      "+-------+--------------------+------+------+----------+\n",
      "only showing top 10 rows\n",
      "\n",
      "\n",
      "record count: 20000263\n"
     ]
    }
   ],
   "source": [
    "# Use SQL to join the two data sets on business id\n",
    "full_movies_sql = spark.sql(\"\"\"SELECT mov.movieID, mov.title, rev.userID, rev.rating, rev.timestamp\n",
    "                               FROM reviews AS rev JOIN movies AS mov\n",
    "                               ON rev.movieId = mov.movieId\"\"\")\n",
    "\n",
    "full_movies_sql.show(10)\n",
    "print('\\n' + 'record count: ' + str(full_movies_sql.count()))"
   ]
  },
  {
   "cell_type": "markdown",
   "metadata": {},
   "source": [
    "The above data set is what will be used in the analysis.\n",
    "\n",
    "The data set consists of the business names, users, reviews, and star ratings of the business under review."
   ]
  },
  {
   "cell_type": "code",
   "execution_count": 7,
   "metadata": {},
   "outputs": [
    {
     "name": "stdout",
     "output_type": "stream",
     "text": [
      "+-------+------------+\n",
      "|movieID|movieIDCount|\n",
      "+-------+------------+\n",
      "|   1339|       10022|\n",
      "|   3255|       10026|\n",
      "|   1293|       10028|\n",
      "|   4720|       10055|\n",
      "|   2080|       10062|\n",
      "|    252|       10074|\n",
      "|   2105|       10076|\n",
      "|   2023|       10141|\n",
      "|   2294|       10163|\n",
      "|   2161|       10169|\n",
      "+-------+------------+\n",
      "only showing top 10 rows\n",
      "\n",
      "\n",
      "record count: 462\n"
     ]
    }
   ],
   "source": [
    "full_movies_sql.createOrReplaceTempView('full_movies_sql')\n",
    "movieId_count = spark.sql(\"\"\"SELECT movieID, COUNT(movieID) AS movieIDCount\n",
    "                             FROM full_movies_sql\n",
    "                             GROUP BY movieID\n",
    "                             HAVING movieIDCount >= 10000\n",
    "                             ORDER BY movieIDCount ASC\"\"\")\n",
    "\n",
    "movieId_count.show(10)\n",
    "print('\\n' + 'record count: ' + str(movieId_count.count()))"
   ]
  },
  {
   "cell_type": "code",
   "execution_count": 8,
   "metadata": {},
   "outputs": [
    {
     "name": "stdout",
     "output_type": "stream",
     "text": [
      "+------+-----------+\n",
      "|userID|userIDCount|\n",
      "+------+-----------+\n",
      "| 26640|       1000|\n",
      "| 28239|       1000|\n",
      "| 93555|       1000|\n",
      "|101963|       1000|\n",
      "| 97521|       1000|\n",
      "|136301|       1000|\n",
      "| 96523|       1000|\n",
      "| 81212|       1000|\n",
      "| 13244|       1000|\n",
      "|102262|       1000|\n",
      "+------+-----------+\n",
      "only showing top 10 rows\n",
      "\n",
      "\n",
      "record count: 1894\n"
     ]
    }
   ],
   "source": [
    "userID_count = spark.sql(\"\"\"SELECT userID, COUNT(userID) AS userIDCount\n",
    "                            FROM full_movies_sql\n",
    "                            GROUP BY userID\n",
    "                            HAVING userIDCount >= 1000\n",
    "                            ORDER BY userIDCount ASC\"\"\")\n",
    "\n",
    "userID_count.show(10)\n",
    "print('\\n' + 'record count: ' + str(userID_count.count()))"
   ]
  },
  {
   "cell_type": "code",
   "execution_count": 9,
   "metadata": {},
   "outputs": [
    {
     "name": "stdout",
     "output_type": "stream",
     "text": [
      "+-------+--------------------+------+------+----------+------------+-----------+\n",
      "|movieID|               title|userID|rating| timestamp|movieIDCount|userIDCount|\n",
      "+-------+--------------------+------+------+----------+------------+-----------+\n",
      "|   1090|      Platoon (1986)|111982|   4.0|1390131211|       15808|       1225|\n",
      "|   2294|         Antz (1998)|111982|   1.5|1215994731|       10163|       1225|\n",
      "|    296| Pulp Fiction (1994)|111982|   5.0|1202678932|       67310|       1225|\n",
      "|   1394|Raising Arizona (...|111982|   3.0|1338657149|       15483|       1225|\n",
      "|  58559|Dark Knight, The ...|111982|   4.5|1217474947|       20438|       1225|\n",
      "|   1265|Groundhog Day (1993)|111982|   4.0|1221511687|       32026|       1225|\n",
      "|   2700|South Park: Bigge...|111982|   5.0|1202679295|       17371|       1225|\n",
      "|   3949|Requiem for a Dre...|111982|   3.0|1241386796|       14515|       1225|\n",
      "|    919|Wizard of Oz, The...|111982|   3.0|1215994478|       23445|       1225|\n",
      "|   1500|Grosse Pointe Bla...|111982|   4.5|1275655010|       14487|       1225|\n",
      "+-------+--------------------+------+------+----------+------------+-----------+\n",
      "only showing top 10 rows\n",
      "\n",
      "\n",
      "record count: 607734\n"
     ]
    }
   ],
   "source": [
    "movieId_count.createOrReplaceTempView('movieId_count')\n",
    "userID_count.createOrReplaceTempView('userID_count')\n",
    "\n",
    "# Use SQL to join the two data sets on business id\n",
    "full_movies_sql = spark.sql(\"\"\"SELECT ful.movieID, ful.title, ful.userID, ful.rating, ful.timestamp,\n",
    "                               mc.movieIDCount, uc.userIDCount\n",
    "                               FROM full_movies_sql AS ful JOIN movieID_count AS mc\n",
    "                               ON ful.movieID = mc.movieID\n",
    "                               JOIN userID_count AS uc\n",
    "                               ON ful.userID = uc.userID\"\"\")\n",
    "\n",
    "full_movies_sql.show(10)\n",
    "print('\\n' + 'record count: ' + str(full_movies_sql.count()))"
   ]
  },
  {
   "cell_type": "code",
   "execution_count": 10,
   "metadata": {},
   "outputs": [
    {
     "name": "stdout",
     "output_type": "stream",
     "text": [
      "root\n",
      " |-- youtubeId: string (nullable = true)\n",
      " |-- movieId: string (nullable = true)\n",
      " |-- title: string (nullable = true)\n",
      "\n"
     ]
    }
   ],
   "source": [
    "# View schema of data set\n",
    "trailers = spark.read.csv('Data/ml-youtube.csv', header = True)\n",
    "trailers_schema = trailers.printSchema()\n",
    "trailers_schema"
   ]
  },
  {
   "cell_type": "code",
   "execution_count": 11,
   "metadata": {},
   "outputs": [
    {
     "name": "stdout",
     "output_type": "stream",
     "text": [
      "+-----------+-------+--------------------+\n",
      "|  youtubeId|movieId|               title|\n",
      "+-----------+-------+--------------------+\n",
      "|K26_sDKnvMU|      1|    Toy Story (1995)|\n",
      "|3LPANjHlPxo|      2|      Jumanji (1995)|\n",
      "|rEnOoWs3FuA|      3|Grumpier Old Men ...|\n",
      "|j9xml1CxgXI|      4|Waiting to Exhale...|\n",
      "|ltwvKLnj1B4|      5|Father of the Bri...|\n",
      "|2GfZl4kuVNI|      6|         Heat (1995)|\n",
      "|twTksx_lWB4|      7|      Sabrina (1995)|\n",
      "|-C-xXZyX2zU|      8| Tom and Huck (1995)|\n",
      "|SCOxEKkuWG4|      9| Sudden Death (1995)|\n",
      "|lcOqUE0u1LM|     10|    GoldenEye (1995)|\n",
      "+-----------+-------+--------------------+\n",
      "only showing top 10 rows\n",
      "\n",
      "\n",
      "record count: 25623\n"
     ]
    }
   ],
   "source": [
    "# View data set\n",
    "trailers.createOrReplaceTempView('trailers')\n",
    "trailers_sql = spark.sql(\"\"\"SELECT *\n",
    "                            FROM trailers\"\"\")\n",
    "\n",
    "trailers.show(10)\n",
    "print('\\n' + 'record count: ' + str(trailers.count()))"
   ]
  },
  {
   "cell_type": "code",
   "execution_count": 12,
   "metadata": {},
   "outputs": [
    {
     "name": "stdout",
     "output_type": "stream",
     "text": [
      "+-------+--------------------+------+------+----------+------------+-----------+-----------+\n",
      "|movieID|               title|userID|rating| timestamp|movieIDCount|userIDCount|  youtubeId|\n",
      "+-------+--------------------+------+------+----------+------------+-----------+-----------+\n",
      "|   1090|      Platoon (1986)|111982|   4.0|1390131211|       15808|       1225|pPi8EQzJ2Bg|\n",
      "|   2294|         Antz (1998)|111982|   1.5|1215994731|       10163|       1225|6kqGO1c70ak|\n",
      "|    296| Pulp Fiction (1994)|111982|   5.0|1202678932|       67310|       1225|s7EdQ4FqbhY|\n",
      "|   1394|Raising Arizona (...|111982|   3.0|1338657149|       15483|       1225|2AIfVoGUs6c|\n",
      "|  58559|Dark Knight, The ...|111982|   4.5|1217474947|       20438|       1225|GVx5K8WfFJY|\n",
      "|   1265|Groundhog Day (1993)|111982|   4.0|1221511687|       32026|       1225|tSVeDx9fk60|\n",
      "|   2700|South Park: Bigge...|111982|   5.0|1202679295|       17371|       1225|PbMl6DjhJ1I|\n",
      "|   3949|Requiem for a Dre...|111982|   3.0|1241386796|       14515|       1225|lgo3Hb5vWLE|\n",
      "|    919|Wizard of Oz, The...|111982|   3.0|1215994478|       23445|       1225|H9eNwZWtAUU|\n",
      "|   1500|Grosse Pointe Bla...|111982|   4.5|1275655010|       14487|       1225|IJ7AXKWmWOg|\n",
      "+-------+--------------------+------+------+----------+------------+-----------+-----------+\n",
      "only showing top 10 rows\n",
      "\n",
      "\n",
      "record count: 607734\n"
     ]
    }
   ],
   "source": [
    "full_movies_sql.createOrReplaceTempView('full_movies_sql')\n",
    "\n",
    "full_movies_sql = spark.sql(\"\"\"SELECT ful.*, t.youtubeId\n",
    "                               FROM full_movies_sql AS ful JOIN trailers AS t\n",
    "                               ON ful.movieId = t.movieId\"\"\")\n",
    "\n",
    "full_movies_sql.show(10)\n",
    "print('\\n' + 'record count: ' + str(full_movies_sql.count()))"
   ]
  },
  {
   "cell_type": "code",
   "execution_count": 14,
   "metadata": {},
   "outputs": [],
   "source": [
    "# Export data set to project directory\n",
    "full_movies = full_movies_sql.toPandas()\n",
    "full_movies.columns = ['movieId','movie','userId','rating','timestamp','movieIDCount','userIDCount','youtubeId']\n",
    "full_movies.to_csv('Data/Movie_Ratings.csv')"
   ]
  }
 ],
 "metadata": {
  "hide_input": false,
  "kernelspec": {
   "display_name": "Python 3",
   "language": "python",
   "name": "python3"
  },
  "language_info": {
   "codemirror_mode": {
    "name": "ipython",
    "version": 3
   },
   "file_extension": ".py",
   "mimetype": "text/x-python",
   "name": "python",
   "nbconvert_exporter": "python",
   "pygments_lexer": "ipython3",
   "version": "3.8.5"
  },
  "toc": {
   "base_numbering": 1,
   "nav_menu": {},
   "number_sections": true,
   "sideBar": true,
   "skip_h1_title": false,
   "title_cell": "Table of Contents",
   "title_sidebar": "Contents",
   "toc_cell": false,
   "toc_position": {
    "height": "calc(100% - 180px)",
    "left": "10px",
    "top": "150px",
    "width": "239px"
   },
   "toc_section_display": true,
   "toc_window_display": true
  }
 },
 "nbformat": 4,
 "nbformat_minor": 4
}
